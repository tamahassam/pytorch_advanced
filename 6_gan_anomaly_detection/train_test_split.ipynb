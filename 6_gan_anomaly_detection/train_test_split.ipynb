{
 "cells": [
  {
   "cell_type": "code",
   "execution_count": 2,
   "id": "peripheral-carry",
   "metadata": {},
   "outputs": [],
   "source": [
    "import glob, os"
   ]
  },
  {
   "cell_type": "code",
   "execution_count": 6,
   "id": "usual-facing",
   "metadata": {},
   "outputs": [
    {
     "data": {
      "text/plain": [
       "['/mnt/media/atsuk/Extreme SSD/normal_ct_png/normal_01.png',\n",
       " '/mnt/media/atsuk/Extreme SSD/normal_ct_png/normal_08.png',\n",
       " '/mnt/media/atsuk/Extreme SSD/normal_ct_png/normal_05.png',\n",
       " '/mnt/media/atsuk/Extreme SSD/normal_ct_png/normal_10.png',\n",
       " '/mnt/media/atsuk/Extreme SSD/normal_ct_png/normal_09.png']"
      ]
     },
     "execution_count": 6,
     "metadata": {},
     "output_type": "execute_result"
    }
   ],
   "source": [
    "# images = glob.glob(\"/mnt/home/atsuk/Desktop/normal_ct_images/normal_ct_visual/*.tif\")\n",
    "images = glob.glob(\"/mnt/media/atsuk/Extreme SSD/normal_ct_png/*.png\")\n",
    "images[:5]"
   ]
  },
  {
   "cell_type": "code",
   "execution_count": 7,
   "id": "sorted-senate",
   "metadata": {},
   "outputs": [],
   "source": [
    "import math, random"
   ]
  },
  {
   "cell_type": "code",
   "execution_count": 8,
   "id": "endangered-vegetation",
   "metadata": {},
   "outputs": [
    {
     "name": "stdout",
     "output_type": "stream",
     "text": [
      "38608\n",
      "9652\n"
     ]
    }
   ],
   "source": [
    "random.shuffle(images)\n",
    "train = images[:math.ceil(len(images)*0.8)]\n",
    "test = images[math.ceil(len(images)*0.8):]\n",
    "print(len(train))\n",
    "print(len(test))"
   ]
  },
  {
   "cell_type": "code",
   "execution_count": 9,
   "id": "eleven-raising",
   "metadata": {},
   "outputs": [],
   "source": [
    "import shutil\n",
    "from tqdm import tqdm"
   ]
  },
  {
   "cell_type": "code",
   "execution_count": 10,
   "id": "criminal-girlfriend",
   "metadata": {},
   "outputs": [
    {
     "name": "stderr",
     "output_type": "stream",
     "text": [
      "100%|██████████| 38608/38608 [01:29<00:00, 430.09it/s]\n",
      "100%|██████████| 9652/9652 [00:22<00:00, 429.55it/s]\n"
     ]
    }
   ],
   "source": [
    "for im in tqdm(train):\n",
    "    shutil.copy(im, \"/mnt/home/atsuk/Desktop/abnormal_detection_data/train\")\n",
    "    \n",
    "for im in tqdm(test):\n",
    "    shutil.copy(im, \"/mnt/home/atsuk/Desktop/abnormal_detection_data/test\")"
   ]
  },
  {
   "cell_type": "code",
   "execution_count": null,
   "id": "popular-trunk",
   "metadata": {},
   "outputs": [],
   "source": []
  }
 ],
 "metadata": {
  "kernelspec": {
   "display_name": "Python 3",
   "language": "python",
   "name": "python3"
  },
  "language_info": {
   "codemirror_mode": {
    "name": "ipython",
    "version": 3
   },
   "file_extension": ".py",
   "mimetype": "text/x-python",
   "name": "python",
   "nbconvert_exporter": "python",
   "pygments_lexer": "ipython3",
   "version": "3.8.5"
  }
 },
 "nbformat": 4,
 "nbformat_minor": 5
}
