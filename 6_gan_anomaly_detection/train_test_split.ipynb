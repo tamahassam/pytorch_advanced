{
 "cells": [
  {
   "cell_type": "code",
   "execution_count": 16,
   "id": "worst-arkansas",
   "metadata": {},
   "outputs": [],
   "source": [
    "import os, shutil, glob, random\n",
    "from tqdm import tqdm"
   ]
  },
  {
   "cell_type": "code",
   "execution_count": 5,
   "id": "threaded-iceland",
   "metadata": {},
   "outputs": [
    {
     "data": {
      "text/plain": [
       "['/mnt/media/atanaka/Extreme SSD/normal_ct_visual/000025.tif',\n",
       " '/mnt/media/atanaka/Extreme SSD/normal_ct_visual/000167.tif',\n",
       " '/mnt/media/atanaka/Extreme SSD/normal_ct_visual/000230.tif',\n",
       " '/mnt/media/atanaka/Extreme SSD/normal_ct_visual/000238.tif',\n",
       " '/mnt/media/atanaka/Extreme SSD/normal_ct_visual/000302.tif']"
      ]
     },
     "execution_count": 5,
     "metadata": {},
     "output_type": "execute_result"
    }
   ],
   "source": [
    "l = glob.glob(\"/mnt/media/atanaka/Extreme SSD/normal_ct_visual/*.tif\")\n",
    "l[:5]"
   ]
  },
  {
   "cell_type": "code",
   "execution_count": 6,
   "id": "oriented-poster",
   "metadata": {},
   "outputs": [
    {
     "data": {
      "text/plain": [
       "48260"
      ]
     },
     "execution_count": 6,
     "metadata": {},
     "output_type": "execute_result"
    }
   ],
   "source": [
    "len(l)"
   ]
  },
  {
   "cell_type": "code",
   "execution_count": 10,
   "id": "fallen-violence",
   "metadata": {},
   "outputs": [],
   "source": [
    "random.shuffle(l)"
   ]
  },
  {
   "cell_type": "code",
   "execution_count": 11,
   "id": "completed-account",
   "metadata": {},
   "outputs": [],
   "source": [
    "border = int(len(l) * 0.8)"
   ]
  },
  {
   "cell_type": "code",
   "execution_count": 12,
   "id": "awful-attraction",
   "metadata": {},
   "outputs": [
    {
     "data": {
      "text/plain": [
       "38608"
      ]
     },
     "execution_count": 12,
     "metadata": {},
     "output_type": "execute_result"
    }
   ],
   "source": [
    "border"
   ]
  },
  {
   "cell_type": "code",
   "execution_count": 21,
   "id": "adjacent-berlin",
   "metadata": {},
   "outputs": [],
   "source": [
    "os.mkdir(\"/mnt/media/atanaka/Extreme SSD/normal_ct_visual/train\")\n",
    "os.mkdir(\"/mnt/media/atanaka/Extreme SSD/normal_ct_visual/test\")"
   ]
  },
  {
   "cell_type": "code",
   "execution_count": 22,
   "id": "electrical-brief",
   "metadata": {},
   "outputs": [
    {
     "name": "stderr",
     "output_type": "stream",
     "text": [
      "100%|██████████| 38608/38608 [07:11<00:00, 89.39it/s] \n"
     ]
    }
   ],
   "source": [
    "for path in tqdm(l[:border]):\n",
    "    shutil.copy(path, \"/mnt/media/atanaka/Extreme SSD/normal_ct_visual/train\")"
   ]
  },
  {
   "cell_type": "code",
   "execution_count": 23,
   "id": "composite-madrid",
   "metadata": {},
   "outputs": [
    {
     "name": "stderr",
     "output_type": "stream",
     "text": [
      "100%|██████████| 9652/9652 [00:33<00:00, 288.64it/s]\n"
     ]
    }
   ],
   "source": [
    "for path in tqdm(l[border:]):\n",
    "    shutil.copy(path, \"/mnt/media/atanaka/Extreme SSD/normal_ct_visual/test\")"
   ]
  },
  {
   "cell_type": "code",
   "execution_count": null,
   "id": "funny-commission",
   "metadata": {},
   "outputs": [],
   "source": []
  }
 ],
 "metadata": {
  "kernelspec": {
   "display_name": "Python 3",
   "language": "python",
   "name": "python3"
  },
  "language_info": {
   "codemirror_mode": {
    "name": "ipython",
    "version": 3
   },
   "file_extension": ".py",
   "mimetype": "text/x-python",
   "name": "python",
   "nbconvert_exporter": "python",
   "pygments_lexer": "ipython3",
   "version": "3.8.8"
  }
 },
 "nbformat": 4,
 "nbformat_minor": 5
}
